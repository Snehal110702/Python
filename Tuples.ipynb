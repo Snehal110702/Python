{
 "cells": [
  {
   "cell_type": "markdown",
   "id": "58dd96df",
   "metadata": {},
   "source": [
    "## TUPLES"
   ]
  },
  {
   "cell_type": "markdown",
   "id": "96ca11dc",
   "metadata": {},
   "source": [
    "### Absolutely UN-changeable!!"
   ]
  },
  {
   "cell_type": "code",
   "execution_count": 1,
   "id": "f7dbaa03",
   "metadata": {},
   "outputs": [],
   "source": [
    "# Creating an empty tuple\n",
    "tup1 = tuple()"
   ]
  },
  {
   "cell_type": "code",
   "execution_count": 2,
   "id": "11ae4ca5",
   "metadata": {},
   "outputs": [
    {
     "name": "stdout",
     "output_type": "stream",
     "text": [
      "('Snehal', 'Naisha', 'Pradhan')\n"
     ]
    }
   ],
   "source": [
    "tup1 = (\"Snehal\", \"Naisha\", \"Pradhan\")\n",
    "print(tup1)"
   ]
  },
  {
   "cell_type": "code",
   "execution_count": 3,
   "id": "116e6c94",
   "metadata": {},
   "outputs": [
    {
     "name": "stdout",
     "output_type": "stream",
     "text": [
      "Snehal Pradhan ('Naisha', 'Pradhan')\n"
     ]
    }
   ],
   "source": [
    "## Accessing tuple items\n",
    "print(tup1[0], tup1[-1], tup1[1:3])"
   ]
  },
  {
   "cell_type": "markdown",
   "id": "952b9de8",
   "metadata": {},
   "source": [
    "## We need to convert a tuple into list to be able to update individual items"
   ]
  },
  {
   "cell_type": "code",
   "execution_count": 4,
   "id": "7dd63f90",
   "metadata": {},
   "outputs": [],
   "source": [
    "## Doesn't work this way\n",
    "## tup1[0] = \"Nemo\""
   ]
  },
  {
   "cell_type": "code",
   "execution_count": 5,
   "id": "1e4c080c",
   "metadata": {},
   "outputs": [
    {
     "name": "stdout",
     "output_type": "stream",
     "text": [
      "('Nemo', 'Snehal', 'Naisha')\n"
     ]
    }
   ],
   "source": [
    "tup1 = (\"Nemo\", \"Snehal\", \"Naisha\")\n",
    "print(tup1)"
   ]
  },
  {
   "cell_type": "code",
   "execution_count": 6,
   "id": "5af78b95",
   "metadata": {},
   "outputs": [
    {
     "data": {
      "text/plain": [
       "('Dory', 'Snehal', 'Naisha')"
      ]
     },
     "execution_count": 6,
     "metadata": {},
     "output_type": "execute_result"
    }
   ],
   "source": [
    "list1 = list(tup1)\n",
    "list1[0] = \"Dory\"\n",
    "tup1 = tuple(list1)\n",
    "tup1"
   ]
  },
  {
   "cell_type": "code",
   "execution_count": 7,
   "id": "b938641f",
   "metadata": {},
   "outputs": [
    {
     "data": {
      "text/plain": [
       "('Mufasa', 'Simba', 'Zazu', 'Timon')"
      ]
     },
     "execution_count": 7,
     "metadata": {},
     "output_type": "execute_result"
    }
   ],
   "source": [
    "# Adding items to a tuple\n",
    "tup2 = (\"Mufasa\", \"Simba\", \"Zazu\")\n",
    "# Since tuples are IMMUTABLE, once again conversion to list is needed\n",
    "list2 = list(tup2)\n",
    "list2.append(\"Timon\")\n",
    "tup2 = tuple(list2)\n",
    "tup2"
   ]
  },
  {
   "cell_type": "code",
   "execution_count": 8,
   "id": "b301a02f",
   "metadata": {},
   "outputs": [
    {
     "data": {
      "text/plain": [
       "1"
      ]
     },
     "execution_count": 8,
     "metadata": {},
     "output_type": "execute_result"
    }
   ],
   "source": [
    "tup1.count(\"Naisha\")"
   ]
  },
  {
   "cell_type": "code",
   "execution_count": 9,
   "id": "3e73211e",
   "metadata": {},
   "outputs": [
    {
     "data": {
      "text/plain": [
       "1"
      ]
     },
     "execution_count": 9,
     "metadata": {},
     "output_type": "execute_result"
    }
   ],
   "source": [
    "tup1.index(\"Snehal\")"
   ]
  },
  {
   "cell_type": "code",
   "execution_count": 10,
   "id": "99747e8a",
   "metadata": {},
   "outputs": [
    {
     "data": {
      "text/plain": [
       "('Dory', 'Snehal', 'Naisha')"
      ]
     },
     "execution_count": 10,
     "metadata": {},
     "output_type": "execute_result"
    }
   ],
   "source": [
    "tup1"
   ]
  },
  {
   "cell_type": "markdown",
   "id": "56f1b1f3",
   "metadata": {},
   "source": [
    "## Tuple with only 1 item still requires a comma (,)"
   ]
  },
  {
   "cell_type": "code",
   "execution_count": 11,
   "id": "b6cf393f",
   "metadata": {},
   "outputs": [
    {
     "data": {
      "text/plain": [
       "str"
      ]
     },
     "execution_count": 11,
     "metadata": {},
     "output_type": "execute_result"
    }
   ],
   "source": [
    "my_tup1 = (\"Snehal\")\n",
    "type(my_tup1)"
   ]
  },
  {
   "cell_type": "code",
   "execution_count": 12,
   "id": "59960fa1",
   "metadata": {},
   "outputs": [
    {
     "data": {
      "text/plain": [
       "tuple"
      ]
     },
     "execution_count": 12,
     "metadata": {},
     "output_type": "execute_result"
    }
   ],
   "source": [
    "my_tup2 = (\"Snehal\", )\n",
    "type(my_tup2)"
   ]
  },
  {
   "cell_type": "markdown",
   "id": "884ef6ff",
   "metadata": {},
   "source": [
    "## Unpacking a Tuple"
   ]
  },
  {
   "cell_type": "code",
   "execution_count": 13,
   "id": "e9c17132",
   "metadata": {},
   "outputs": [
    {
     "data": {
      "text/plain": [
       "('Dory', 'Snehal', 'Naisha')"
      ]
     },
     "execution_count": 13,
     "metadata": {},
     "output_type": "execute_result"
    }
   ],
   "source": [
    "tup1"
   ]
  },
  {
   "cell_type": "code",
   "execution_count": 14,
   "id": "91dca9df",
   "metadata": {},
   "outputs": [
    {
     "name": "stdout",
     "output_type": "stream",
     "text": [
      "Dory\n"
     ]
    }
   ],
   "source": [
    "(Fish, Girl, Baby) = tup1\n",
    "print(Fish)"
   ]
  },
  {
   "cell_type": "code",
   "execution_count": 15,
   "id": "fe0de6dc",
   "metadata": {},
   "outputs": [
    {
     "data": {
      "text/plain": [
       "('Mufasa', 'Simba', 'Zazu', 'Timon')"
      ]
     },
     "execution_count": 15,
     "metadata": {},
     "output_type": "execute_result"
    }
   ],
   "source": [
    "tup2"
   ]
  },
  {
   "cell_type": "code",
   "execution_count": 16,
   "id": "bff071cc",
   "metadata": {},
   "outputs": [
    {
     "name": "stdout",
     "output_type": "stream",
     "text": [
      "['Timon']\n"
     ]
    }
   ],
   "source": [
    "(Lion, Cub, Bird, *Blah) = tup2     # Asterisk assigns the remaining items to 'Blah'\n",
    "print(Blah)"
   ]
  },
  {
   "cell_type": "markdown",
   "id": "006ec492",
   "metadata": {},
   "source": [
    "## Looping through a Tuple"
   ]
  },
  {
   "cell_type": "code",
   "execution_count": 17,
   "id": "a6bf38a6",
   "metadata": {},
   "outputs": [
    {
     "name": "stdout",
     "output_type": "stream",
     "text": [
      "Mufasa\n",
      "Simba\n",
      "Zazu\n",
      "Timon\n"
     ]
    }
   ],
   "source": [
    "for i in range (len(tup2)):\n",
    "    print(tup2[i])"
   ]
  },
  {
   "cell_type": "markdown",
   "id": "652f2f17",
   "metadata": {},
   "source": [
    "## Joining Tuples"
   ]
  },
  {
   "cell_type": "code",
   "execution_count": 18,
   "id": "4c1a8d49",
   "metadata": {},
   "outputs": [
    {
     "data": {
      "text/plain": [
       "('Dory', 'Snehal', 'Naisha', 'Mufasa', 'Simba', 'Zazu', 'Timon')"
      ]
     },
     "execution_count": 18,
     "metadata": {},
     "output_type": "execute_result"
    }
   ],
   "source": [
    "tup3 = tup1 + tup2\n",
    "tup3"
   ]
  },
  {
   "cell_type": "code",
   "execution_count": 19,
   "id": "ac14f1d3",
   "metadata": {},
   "outputs": [
    {
     "data": {
      "text/plain": [
       "('Mufasa', 'Simba', 'Zazu', 'Timon', 'Mufasa', 'Simba', 'Zazu', 'Timon')"
      ]
     },
     "execution_count": 19,
     "metadata": {},
     "output_type": "execute_result"
    }
   ],
   "source": [
    "tup4 = tup2 * 2\n",
    "tup4"
   ]
  }
 ],
 "metadata": {
  "kernelspec": {
   "display_name": "Python 3 (ipykernel)",
   "language": "python",
   "name": "python3"
  },
  "language_info": {
   "codemirror_mode": {
    "name": "ipython",
    "version": 3
   },
   "file_extension": ".py",
   "mimetype": "text/x-python",
   "name": "python",
   "nbconvert_exporter": "python",
   "pygments_lexer": "ipython3",
   "version": "3.8.11"
  }
 },
 "nbformat": 4,
 "nbformat_minor": 5
}
