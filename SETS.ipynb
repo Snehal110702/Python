{
 "cells": [
  {
   "cell_type": "markdown",
   "id": "a3c93290",
   "metadata": {},
   "source": [
    "SETS are based on the <b>data structure Hashtables</b> (mapping of keys to values)."
   ]
  },
  {
   "cell_type": "markdown",
   "id": "0806d4bb",
   "metadata": {},
   "source": [
    "## SET == UN-ordered, UN-changeable, UN-indexed!!"
   ]
  },
  {
   "cell_type": "code",
   "execution_count": 1,
   "id": "4cec1159",
   "metadata": {},
   "outputs": [
    {
     "name": "stdout",
     "output_type": "stream",
     "text": [
      "set()\n"
     ]
    }
   ],
   "source": [
    "# Defining a Set\n",
    "setA = set()\n",
    "print(setA)"
   ]
  },
  {
   "cell_type": "code",
   "execution_count": 2,
   "id": "ba4157a4",
   "metadata": {},
   "outputs": [
    {
     "name": "stdout",
     "output_type": "stream",
     "text": [
      "<class 'set'>\n"
     ]
    }
   ],
   "source": [
    "print(type(setA))"
   ]
  },
  {
   "cell_type": "code",
   "execution_count": 3,
   "id": "b47b3615",
   "metadata": {},
   "outputs": [
    {
     "name": "stdout",
     "output_type": "stream",
     "text": [
      "{'Snehal', 'Mom', 'Naisha', 'Dad'}\n"
     ]
    }
   ],
   "source": [
    "setA = {\"Snehal\", \"Naisha\", \"Mom\", \"Dad\"}\n",
    "print(setA)"
   ]
  },
  {
   "cell_type": "code",
   "execution_count": 4,
   "id": "f4fc6b9a",
   "metadata": {},
   "outputs": [
    {
     "name": "stdout",
     "output_type": "stream",
     "text": [
      "{1, 2, 3, 4, 5}\n"
     ]
    }
   ],
   "source": [
    "set_var2 = {1, 2, 3, 4, 5, 5} \n",
    "# ignores duplicate values\n",
    "print(set_var2)"
   ]
  },
  {
   "cell_type": "markdown",
   "id": "740ec7ec",
   "metadata": {},
   "source": [
    "## In-built functions of Sets"
   ]
  },
  {
   "cell_type": "code",
   "execution_count": 5,
   "id": "c74999db",
   "metadata": {
    "scrolled": false
   },
   "outputs": [
    {
     "name": "stdout",
     "output_type": "stream",
     "text": [
      "{'Mom', 'Dad', 'Snehal', 'Nani', 'Naisha'}\n"
     ]
    }
   ],
   "source": [
    "setA.add(\"Nani\")\n",
    "print(setA)"
   ]
  },
  {
   "cell_type": "markdown",
   "id": "fde1d191",
   "metadata": {},
   "source": [
    "### The update function works like the UNION method"
   ]
  },
  {
   "cell_type": "code",
   "execution_count": 6,
   "id": "62827e61",
   "metadata": {
    "scrolled": false
   },
   "outputs": [
    {
     "name": "stdout",
     "output_type": "stream",
     "text": [
      "{'Mom', 'Dad', 'Snehal', 'Nani', 'Rose', 'Marigold', 'Naisha', 'Lavender'}\n"
     ]
    }
   ],
   "source": [
    "setB = {\"Rose\", \"Marigold\", \"Lavender\"}\n",
    "setA.update(setB)\n",
    "print(setA)"
   ]
  },
  {
   "cell_type": "markdown",
   "id": "fa57c4f4",
   "metadata": {},
   "source": [
    "### Clear() method to remove all elements from a set"
   ]
  },
  {
   "cell_type": "code",
   "execution_count": 11,
   "id": "ea176491",
   "metadata": {},
   "outputs": [],
   "source": [
    "setB.clear()"
   ]
  },
  {
   "cell_type": "code",
   "execution_count": 12,
   "id": "8cff46f0",
   "metadata": {
    "scrolled": false
   },
   "outputs": [
    {
     "name": "stdout",
     "output_type": "stream",
     "text": [
      "set()\n"
     ]
    }
   ],
   "source": [
    "print(setB)"
   ]
  },
  {
   "cell_type": "markdown",
   "id": "84ca8741",
   "metadata": {},
   "source": [
    "### Symmetric Difference function returns the difference of 2 sets, but preserves their symmetry (their intersection)"
   ]
  },
  {
   "cell_type": "code",
   "execution_count": 14,
   "id": "9ddfaf8c",
   "metadata": {},
   "outputs": [
    {
     "name": "stdout",
     "output_type": "stream",
     "text": [
      "{'Swift', 'Android', 'Python', 'C++'}\n"
     ]
    }
   ],
   "source": [
    "a = {\"Java\", \"Python\", \"C++\", \"Swift\"}\n",
    "b = {\"Android\", \"Java\"}\n",
    "\n",
    "# returns the difference of uncommon elements of the specified sets\n",
    "print(a.symmetric_difference(b)) "
   ]
  },
  {
   "cell_type": "code",
   "execution_count": 17,
   "id": "10a130ea",
   "metadata": {},
   "outputs": [
    {
     "name": "stdout",
     "output_type": "stream",
     "text": [
      "4 2\n"
     ]
    }
   ],
   "source": [
    "# length of a set\n",
    "print(len(a), len(b))"
   ]
  },
  {
   "cell_type": "markdown",
   "id": "dea532ec",
   "metadata": {},
   "source": [
    "### Set constructor"
   ]
  },
  {
   "cell_type": "code",
   "execution_count": 18,
   "id": "7443e083",
   "metadata": {},
   "outputs": [
    {
     "name": "stdout",
     "output_type": "stream",
     "text": [
      "{'Pens', 'Eraser', 'Books'}\n"
     ]
    }
   ],
   "source": [
    "c = set((\"Books\", \"Pens\", \"Eraser\"))\n",
    "print(c)"
   ]
  },
  {
   "cell_type": "markdown",
   "id": "67faef7f",
   "metadata": {},
   "source": [
    "### Accessing the set items"
   ]
  },
  {
   "cell_type": "code",
   "execution_count": 20,
   "id": "e8c285c5",
   "metadata": {
    "scrolled": true
   },
   "outputs": [
    {
     "name": "stdout",
     "output_type": "stream",
     "text": [
      "Pens\n",
      "Eraser\n",
      "Books\n"
     ]
    }
   ],
   "source": [
    "for x in c:\n",
    "    print(x)"
   ]
  },
  {
   "cell_type": "code",
   "execution_count": 22,
   "id": "fad4fb27",
   "metadata": {},
   "outputs": [
    {
     "name": "stdout",
     "output_type": "stream",
     "text": [
      "False\n"
     ]
    }
   ],
   "source": [
    "print(\"banana\" in c)\n",
    "# checking for presence of an element in a set"
   ]
  },
  {
   "cell_type": "code",
   "execution_count": 19,
   "id": "a7eb3e69",
   "metadata": {},
   "outputs": [
    {
     "name": "stdout",
     "output_type": "stream",
     "text": [
      "{0, 1, 2, 3, 4, 5}\n"
     ]
    }
   ],
   "source": [
    "## Printing set from range\n",
    "print(set(range(6)))"
   ]
  }
 ],
 "metadata": {
  "kernelspec": {
   "display_name": "Python 3 (ipykernel)",
   "language": "python",
   "name": "python3"
  },
  "language_info": {
   "codemirror_mode": {
    "name": "ipython",
    "version": 3
   },
   "file_extension": ".py",
   "mimetype": "text/x-python",
   "name": "python",
   "nbconvert_exporter": "python",
   "pygments_lexer": "ipython3",
   "version": "3.8.11"
  }
 },
 "nbformat": 4,
 "nbformat_minor": 5
}
