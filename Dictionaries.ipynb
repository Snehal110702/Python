{
 "cells": [
  {
   "cell_type": "markdown",
   "id": "40a61805",
   "metadata": {},
   "source": [
    "## DICTIONARIES"
   ]
  },
  {
   "cell_type": "markdown",
   "id": "4f3c1ca0",
   "metadata": {},
   "source": [
    "### Ordered, Changeable, Indexed!!\n",
    "Dictionaries are written in curly brackets in Python."
   ]
  },
  {
   "cell_type": "code",
   "execution_count": 1,
   "id": "4da44a00",
   "metadata": {},
   "outputs": [
    {
     "data": {
      "text/plain": [
       "{'Color1': 'Red', 'Color2': 'Blue', 'Color3': 'Green'}"
      ]
     },
     "execution_count": 1,
     "metadata": {},
     "output_type": "execute_result"
    }
   ],
   "source": [
    "# Defining a dictionary\n",
    "dict1 = {\"Color1\":\"Red\", \"Color2\":\"Blue\", \"Color3\":\"Green\"}\n",
    "dict1"
   ]
  },
  {
   "cell_type": "code",
   "execution_count": 2,
   "id": "4421cdb0",
   "metadata": {
    "scrolled": true
   },
   "outputs": [
    {
     "name": "stdout",
     "output_type": "stream",
     "text": [
      "Color1\n",
      "Color2\n",
      "Color3\n"
     ]
    }
   ],
   "source": [
    "# Looping through the KEYS of the dictionary\n",
    "for x in dict1 :\n",
    "    print(x)"
   ]
  },
  {
   "cell_type": "markdown",
   "id": "6a3a4b43",
   "metadata": {},
   "source": [
    "### Accessing dictionary Items"
   ]
  },
  {
   "cell_type": "code",
   "execution_count": 5,
   "id": "10507ef8",
   "metadata": {
    "scrolled": true
   },
   "outputs": [
    {
     "name": "stdout",
     "output_type": "stream",
     "text": [
      "Red\n",
      "Blue\n",
      "Green\n"
     ]
    }
   ],
   "source": [
    "for x in dict1:\n",
    "    print(dict1[x])"
   ]
  },
  {
   "cell_type": "markdown",
   "id": "eb0aa885",
   "metadata": {},
   "source": [
    "Both these methods (given above & below) can be followed to <strong>access the dictionary items</strong>."
   ]
  },
  {
   "cell_type": "code",
   "execution_count": 6,
   "id": "9389a20d",
   "metadata": {
    "scrolled": true
   },
   "outputs": [
    {
     "name": "stdout",
     "output_type": "stream",
     "text": [
      "Red\n",
      "Blue\n",
      "Green\n"
     ]
    }
   ],
   "source": [
    "for x in dict1.values():\n",
    "    print(x)"
   ]
  },
  {
   "cell_type": "markdown",
   "id": "cb33322a",
   "metadata": {},
   "source": [
    "### We used .values() to access the dictionary elements. \n",
    "### We will use .items() to access the keys along with their respective elements."
   ]
  },
  {
   "cell_type": "code",
   "execution_count": 7,
   "id": "b9d3724b",
   "metadata": {
    "scrolled": true
   },
   "outputs": [
    {
     "name": "stdout",
     "output_type": "stream",
     "text": [
      "('Color1', 'Red')\n",
      "('Color2', 'Blue')\n",
      "('Color3', 'Green')\n"
     ]
    }
   ],
   "source": [
    "for x in dict1.items():\n",
    "    print(x)"
   ]
  },
  {
   "cell_type": "code",
   "execution_count": 8,
   "id": "5b6f7ccd",
   "metadata": {
    "scrolled": true
   },
   "outputs": [
    {
     "name": "stdout",
     "output_type": "stream",
     "text": [
      "Color1\n",
      "Color2\n",
      "Color3\n"
     ]
    }
   ],
   "source": [
    "# Retrieving the keys of our dicitonary\n",
    "for x in dict1.keys():\n",
    "    print(x)"
   ]
  },
  {
   "cell_type": "code",
   "execution_count": 9,
   "id": "b65ca070",
   "metadata": {},
   "outputs": [
    {
     "name": "stdout",
     "output_type": "stream",
     "text": [
      "Naisha\n"
     ]
    }
   ],
   "source": [
    "my_dict = {\"Name1\":\"Snehal\", \"Name2\":\"Naisha\", \"Name3\":\"Rekha\"}\n",
    "x = my_dict.get(\"Name2\")\n",
    "print(x)"
   ]
  },
  {
   "cell_type": "markdown",
   "id": "f559402d",
   "metadata": {},
   "source": [
    "### Adding items to the dict"
   ]
  },
  {
   "cell_type": "code",
   "execution_count": 10,
   "id": "02a012fe",
   "metadata": {
    "scrolled": true
   },
   "outputs": [
    {
     "name": "stdout",
     "output_type": "stream",
     "text": [
      "{'Color1': 'Red', 'Color2': 'Blue', 'Color3': 'Green', 'Color4': 'Yellow'}\n"
     ]
    }
   ],
   "source": [
    "dict1[\"Color4\"] = \"Yellow\"\n",
    "print(dict1)"
   ]
  },
  {
   "cell_type": "markdown",
   "id": "552f86c0",
   "metadata": {},
   "source": [
    "Since dictionaries are <b>changeable</b>, we can update the the values mapped to a key."
   ]
  },
  {
   "cell_type": "code",
   "execution_count": 11,
   "id": "25b2735c",
   "metadata": {},
   "outputs": [
    {
     "name": "stdout",
     "output_type": "stream",
     "text": [
      "{'Color1': 'Red', 'Color2': 'Blue', 'Color3': 'Green', 'Color4': 'Brown'}\n"
     ]
    }
   ],
   "source": [
    "dict1[\"Color4\"] = \"Brown\"\n",
    "print(dict1)"
   ]
  },
  {
   "cell_type": "markdown",
   "id": "4318edde",
   "metadata": {},
   "source": [
    "## Copying a Dictionary"
   ]
  },
  {
   "cell_type": "code",
   "execution_count": 12,
   "id": "5c026b95",
   "metadata": {},
   "outputs": [
    {
     "name": "stdout",
     "output_type": "stream",
     "text": [
      "{'Color1': 'Red', 'Color2': 'Blue', 'Color3': 'Green', 'Color4': 'Brown'}\n"
     ]
    }
   ],
   "source": [
    "dict2 = dict1.copy()\n",
    "print(dict2)"
   ]
  },
  {
   "cell_type": "markdown",
   "id": "7c06ddbe",
   "metadata": {},
   "source": [
    "## Nested Dictionaries"
   ]
  },
  {
   "cell_type": "code",
   "execution_count": 13,
   "id": "3890b0a5",
   "metadata": {},
   "outputs": [
    {
     "name": "stdout",
     "output_type": "stream",
     "text": [
      "{'Aisle1': {'English': '2020'}, 'Aisle2': {'Math': '2021'}, 'Aisle3': {'Science': '2022'}}\n"
     ]
    }
   ],
   "source": [
    "book1 = {\"English\":\"2020\"}\n",
    "book2 = {\"Math\":\"2021\"}\n",
    "book3 = {\"Science\":\"2022\"}\n",
    "\n",
    "library = {\"Aisle1\":book1, \"Aisle2\":book2, \"Aisle3\":book3}\n",
    "print(library)"
   ]
  },
  {
   "cell_type": "code",
   "execution_count": 14,
   "id": "6abb3560",
   "metadata": {},
   "outputs": [
    {
     "name": "stdout",
     "output_type": "stream",
     "text": [
      "{'English': '2020'}\n"
     ]
    }
   ],
   "source": [
    "print(library[\"Aisle1\"])"
   ]
  },
  {
   "cell_type": "code",
   "execution_count": 15,
   "id": "a5720143",
   "metadata": {},
   "outputs": [
    {
     "name": "stdout",
     "output_type": "stream",
     "text": [
      "2020\n"
     ]
    }
   ],
   "source": [
    "print(library[\"Aisle1\"][\"English\"])"
   ]
  },
  {
   "cell_type": "markdown",
   "id": "c8b48053",
   "metadata": {},
   "source": [
    "## Deleting items at specific keys"
   ]
  },
  {
   "cell_type": "code",
   "execution_count": 16,
   "id": "10c50f4f",
   "metadata": {},
   "outputs": [
    {
     "name": "stdout",
     "output_type": "stream",
     "text": [
      "{'Color1': 'Red', 'Color2': 'Blue', 'Color3': 'Green', 'Color4': 'Brown'}\n"
     ]
    }
   ],
   "source": [
    "print(dict1)"
   ]
  },
  {
   "cell_type": "code",
   "execution_count": 17,
   "id": "0fba8c2d",
   "metadata": {},
   "outputs": [
    {
     "name": "stdout",
     "output_type": "stream",
     "text": [
      "Brown\n"
     ]
    }
   ],
   "source": [
    "x = dict1.pop(\"Color4\")\n",
    "print(x)"
   ]
  },
  {
   "cell_type": "code",
   "execution_count": 18,
   "id": "3d8a3a65",
   "metadata": {},
   "outputs": [
    {
     "name": "stdout",
     "output_type": "stream",
     "text": [
      "{'English': '2020'}\n"
     ]
    }
   ],
   "source": [
    "print(book1)"
   ]
  },
  {
   "cell_type": "code",
   "execution_count": 19,
   "id": "3a2e1a5b",
   "metadata": {},
   "outputs": [
    {
     "name": "stdout",
     "output_type": "stream",
     "text": [
      "{'English': '2020', 'Hindi': '2019'}\n"
     ]
    }
   ],
   "source": [
    "book1.setdefault(\"Hindi\", \"2019\")\n",
    "print(book1)"
   ]
  }
 ],
 "metadata": {
  "kernelspec": {
   "display_name": "Python 3 (ipykernel)",
   "language": "python",
   "name": "python3"
  },
  "language_info": {
   "codemirror_mode": {
    "name": "ipython",
    "version": 3
   },
   "file_extension": ".py",
   "mimetype": "text/x-python",
   "name": "python",
   "nbconvert_exporter": "python",
   "pygments_lexer": "ipython3",
   "version": "3.8.11"
  }
 },
 "nbformat": 4,
 "nbformat_minor": 5
}
